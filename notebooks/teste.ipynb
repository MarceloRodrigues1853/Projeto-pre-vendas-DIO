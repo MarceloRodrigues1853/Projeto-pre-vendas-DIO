#!/usr/bin/env python
# coding: utf-8

# ### 1️⃣ **Carregar e Explorar os Dados**

# In[1]:


import pandas as pd

# Carregar os dados
df = pd.read_csv("Vendas_de_Sorvete_por_Temperatura.csv")

# Exibir as primeiras linhas
print(df.head())

# Estatísticas básicas
print(df.describe())

# Verificar valores ausentes
print(df.isnull().sum())


# ### 2️⃣ **Visualizar a Relação Entre Temperatura e Vendas**
# 
# criamos um gráfico de dispersão para visualizar a correlação entre temperatura e vendas:
# 

# In[2]:


import matplotlib.pyplot as plt

plt.scatter(df["Temperatura (°C)"], df["Vendas de Sorvete (unidades)"])
plt.xlabel("Temperatura (°C)")
plt.ylabel("Vendas de Sorvete")
plt.title("Relação entre Temperatura e Vendas")
plt.show()


# ### 3️⃣ **Treinar o Modelo**
# 
# Agora, treinamos um modelo de regressão linear para prever as vendas de sorvete com base na temperatura:

# In[4]:


from sklearn.model_selection import train_test_split
from sklearn.linear_model import LinearRegression
from sklearn.metrics import mean_absolute_error

# Definir variáveis de entrada e saída
X = df[["Temperatura (°C)"]]
y = df["Vendas de Sorvete (unidades)"]

# Dividir os dados
X_train, X_test, y_train, y_test = train_test_split(X, y, test_size=0.2, random_state=42)

# Treinar o modelo
modelo = LinearRegression()
modelo.fit(X_train, y_train)

# Fazer previsões
y_pred = modelo.predict(X_test)

# Avaliação do modelo
erro = mean_absolute_error(y_test, y_pred)
print(f"Erro médio absoluto: {erro}")


# ### 4️⃣ **Registrar o Modelo no MLflow**
# 
# Agora que o modelo está treinado, vamos registrá-lo no MLflow dentro do Azure ML:

# In[5]:


import mlflow

mlflow.set_tracking_uri("azureml://eastus.api.azureml.ms/mlflow/v1.0/subscriptions/dd922425-b50c-4a47-a204-ce870f0c03f6/resourceGroups/rg-dio-projetoum/providers/Microsoft.MachineLearningServices/workspaces/workspacedio")

mlflow.start_run()

# Registrar parâmetros e métricas
mlflow.log_param("Modelo", "Regressão Linear")
mlflow.log_metric("Erro médio absoluto", erro)

# Salvar modelo no MLflow
mlflow.sklearn.log_model(modelo, "modelo_sorvete")

mlflow.end_run()

print("Modelo registrado no MLflow!")